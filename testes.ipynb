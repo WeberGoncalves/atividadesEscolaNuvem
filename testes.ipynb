{
 "cells": [
  {
   "cell_type": "code",
   "execution_count": 2,
   "id": "498c79e0",
   "metadata": {},
   "outputs": [
    {
     "name": "stdout",
     "output_type": "stream",
     "text": [
      "Senha: Hvm|Y]\n"
     ]
    }
   ],
   "source": [
    "import random\n",
    "import string\n",
    "\n",
    "def gerar_senha(tamanho):\n",
    "    caracteres = string.ascii_letters + string.digits + string.punctuation\n",
    "    #ascii_letters=Retorna todas as letras do alfabeto (maiúsculas e minúsculas)\n",
    "    # digits= Retorna todos os dígitos numéricos de 0 a 9.\n",
    "    #punctuation= Retorna todos os caracteres especiais e símbolos de pontuação.\n",
    "    senha = ''.join(random.choices(caracteres, k=tamanho))\n",
    "    return senha\n",
    "\n",
    "def pergunta():\n",
    "    try:\n",
    "        senha_teste = gerar_senha(int(input(\"Qual tamanho da senha? \")))\n",
    "        return print(\"Senha: {}\".format(senha_teste))\n",
    "    except:\n",
    "        print(\"O valor deve ser um número\")\n",
    "        return pergunta()\n",
    "\n",
    "pergunta()"
   ]
  },
  {
   "cell_type": "code",
   "execution_count": 4,
   "id": "447a3f5d",
   "metadata": {},
   "outputs": [],
   "source": [
    "import requests\n",
    "\n",
    "# Faz a requisição para a API\n",
    "url = \"https://randomuser.me/api/\"\n",
    "response = requests.get(url)\n",
    "\n",
    "# Verifica se a requisição foi bem-sucedida\n",
    "if response.status_code == 200:\n",
    "    data = response.json()\n",
    "    user = data[\"results\"][0]\n",
    "\n",
    "   \n"
   ]
  },
  {
   "cell_type": "code",
   "execution_count": 5,
   "id": "2c387dff",
   "metadata": {},
   "outputs": [
    {
     "name": "stdout",
     "output_type": "stream",
     "text": [
      "Nome: Hilla Ruona\n",
      " E-mail: {'hilla.ruona@example.com'}\n",
      " País: {'Finland'}\n"
     ]
    }
   ],
   "source": [
    "import requests\n",
    "\n",
    "# Faz a requisição para a API\n",
    "informacao = requests.get(\"https://randomuser.me/api/\")\n",
    "resposta= informacao.json()\n",
    "\n",
    "pessoa = resposta['results'][0]\n",
    "nome = f\"{pessoa[\"name\"][\"first\"]} {pessoa[\"name\"][\"last\"]}\"\n",
    "email = {pessoa[\"email\"]}\n",
    "pais = {pessoa[\"location\"][\"country\"]}\n",
    "\n",
    "print(f\"Nome: {nome}\\n E-mail: {email}\\n País: {pais}\")"
   ]
  }
 ],
 "metadata": {
  "kernelspec": {
   "display_name": "Python 3",
   "language": "python",
   "name": "python3"
  },
  "language_info": {
   "codemirror_mode": {
    "name": "ipython",
    "version": 3
   },
   "file_extension": ".py",
   "mimetype": "text/x-python",
   "name": "python",
   "nbconvert_exporter": "python",
   "pygments_lexer": "ipython3",
   "version": "3.13.0"
  }
 },
 "nbformat": 4,
 "nbformat_minor": 5
}
