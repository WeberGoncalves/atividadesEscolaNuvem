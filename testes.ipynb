{
 "cells": [
  {
   "cell_type": "code",
   "execution_count": 2,
   "id": "498c79e0",
   "metadata": {},
   "outputs": [
    {
     "name": "stdout",
     "output_type": "stream",
     "text": [
      "Senha: Hvm|Y]\n"
     ]
    }
   ],
   "source": [
    "import random\n",
    "import string\n",
    "\n",
    "def gerar_senha(tamanho):\n",
    "    caracteres = string.ascii_letters + string.digits + string.punctuation\n",
    "    #ascii_letters=Retorna todas as letras do alfabeto (maiúsculas e minúsculas)\n",
    "    # digits= Retorna todos os dígitos numéricos de 0 a 9.\n",
    "    #punctuation= Retorna todos os caracteres especiais e símbolos de pontuação.\n",
    "    senha = ''.join(random.choices(caracteres, k=tamanho))\n",
    "    return senha\n",
    "\n",
    "def pergunta():\n",
    "    try:\n",
    "        senha_teste = gerar_senha(int(input(\"Qual tamanho da senha? \")))\n",
    "        return print(\"Senha: {}\".format(senha_teste))\n",
    "    except:\n",
    "        print(\"O valor deve ser um número\")\n",
    "        return pergunta()\n",
    "\n",
    "pergunta()"
   ]
  },
  {
   "cell_type": "code",
   "execution_count": 4,
   "id": "447a3f5d",
   "metadata": {},
   "outputs": [],
   "source": [
    "import requests\n",
    "\n",
    "# Faz a requisição para a API\n",
    "url = \"https://randomuser.me/api/\"\n",
    "response = requests.get(url)\n",
    "\n",
    "# Verifica se a requisição foi bem-sucedida\n",
    "if response.status_code == 200:\n",
    "    data = response.json()\n",
    "    user = data[\"results\"][0]\n",
    "\n",
    "   \n"
   ]
  },
  {
   "cell_type": "code",
   "execution_count": null,
   "id": "2c387dff",
   "metadata": {},
   "outputs": [],
   "source": [
    "import requests\n",
    "\n",
    "# Faz a requisição para a API\n",
    "informacao = requests.get(\"https://randomuser.me/api/\")\n",
    "resposta= informacao.json()\n",
    "\n",
    "pessoa = resposta['results'][0]\n",
    "nome = f\"{pessoa[\"name\"][\"first\"]} {pessoa[\"name\"][\"last\"]}\"\n",
    "email = {pessoa[\"email\"]}\n",
    "pais = {pessoa[\"location\"][\"country\"]}\n",
    "\n",
    "print(f\"Nome: {nome}\\n E-mail: {email}\\n País: {pais}\")"
   ]
  },
  {
   "cell_type": "code",
   "execution_count": 2,
   "id": "6b020b04",
   "metadata": {},
   "outputs": [
    {
     "name": "stdout",
     "output_type": "stream",
     "text": [
      "Não foi possível consultar o CEP. Verifique sua conexão.\n"
     ]
    }
   ],
   "source": [
    "import requests\n",
    "\n",
    "def consultar_cep(cep):\n",
    "    url = f\"https://viacep.com.br/ws/{cep}/json/\"\n",
    "    resposta = requests.get(url)\n",
    "    #Sempre que fazemos uma requisição HTTP, recebemos um código de resposta. Um código  significa que a requisição foi bem-sucedida e os dados foram recebidos corretamente.\n",
    "    if resposta.status_code == 200:\n",
    "        dados = resposta.json()\n",
    "        \n",
    "        if \"erro\" in dados:\n",
    "            print(\"CEP inválido. Tente novamente.\")\n",
    "        else:\n",
    "            print(f\"Logradouro: {dados.get('logradouro', 'N/A')}\")\n",
    "            print(f\"Bairro: {dados.get('bairro', 'N/A')}\")\n",
    "            print(f\"Cidade: {dados.get('localidade', 'N/A')}\")\n",
    "            print(f\"Estado: {dados.get('uf', 'N/A')}\")\n",
    "    else:\n",
    "        print(\"Não foi possível consultar o CEP. Verifique sua conexão.\")\n",
    "\n",
    "cep = input(\"Digite o CEP: \")\n",
    "consultar_cep(cep)"
   ]
  },
  {
   "cell_type": "code",
   "execution_count": null,
   "id": "6f92fbab",
   "metadata": {},
   "outputs": [],
   "source": [
    "import requests\n",
    "\n",
    "def consultar_cotacao(moeda):\n",
    "    url = f\"https://economia.awesomeapi.com.br/json/last/{moeda}-BRL\"\n",
    "    resposta = requests.get(url)\n",
    "\n",
    "    if resposta.status_code == 200:\n",
    "        dados = resposta.json()\n",
    "        \n",
    "        chave_moeda = f\"{moeda}BRL\"\n",
    "        if chave_moeda in dados:\n",
    "            info = dados[chave_moeda]\n",
    "            print(f\"Moeda: {info['name']}\")\n",
    "            print(f\"Valor atual: R$ {info['bid']}\")\n",
    "            print(f\"Valor máximo: R$ {info['high']}\")\n",
    "            print(f\"Valor mínimo: R$ {info['low']}\")\n",
    "            print(f\"Última atualização: {info['create_date']}\")\n",
    "        else:\n",
    "            print(\"Código da moeda inválido. Tente novamente.\")\n",
    "    else:\n",
    "        print(\"Não foi possível consultar a cotação. Verifique sua conexão.\")\n",
    "\n",
    "moeda = input(\"Digite o código da moeda desejada (ex: USD, EUR, GBP): \").upper()\n",
    "consultar_cotacao(moeda)"
   ]
  },
  {
   "cell_type": "code",
   "execution_count": null,
   "id": "c527bf72",
   "metadata": {},
   "outputs": [],
   "source": [
    "import requests\n",
    "from datetime import datetime\n",
    "\n",
    "def obter_cotacao(moeda):\n",
    "    try:\n",
    "        url = f\"https://economia.awesomeapi.com.br/json/last/{moeda}-BRL\"\n",
    "        resposta = requests.get(url)\n",
    "        resposta.raise_for_status()\n",
    "        dados = resposta.json()\n",
    "        cotacao = dados[f\"{moeda}BRL\"]\n",
    "        return f\"\"\"\n",
    "        Moeda: {moeda} para BRL\n",
    "        Valor: R$ {float(cotacao['bid']):.2f}\n",
    "        Máximo: R$ {float(cotacao['high']):.2f}\n",
    "        Mínimo: R$ {float(cotacao['low']):.2f}\n",
    "        Data/Hora: {datetime.fromtimestamp(int(cotacao['timestamp']))}\n",
    "        \"\"\"\n",
    "    except requests.RequestException as e:\n",
    "        return f\"Erro ao obter a cotação: {e}\"\n",
    "    except KeyError:\n",
    "        return \"Moeda não encontrada ou não suportada\"\n",
    "\n",
    "moeda = input(\"Digite o código da moeda desejada (ex: USD, EUR, GBP): \").upper()    \n",
    "print(obter_cotacao(moeda))"
   ]
  },
  {
   "cell_type": "code",
   "execution_count": 5,
   "id": "83c416e9",
   "metadata": {},
   "outputs": [
    {
     "name": "stdout",
     "output_type": "stream",
     "text": [
      "Texto adicionado com sucesso.\n"
     ]
    }
   ],
   "source": [
    "import os\n",
    "\n",
    "def identificar_extensao(arquivo):\n",
    "    _, extensao = os.path.splitext(arquivo)#Separa o nome do arquivo e sua extensão\n",
    "    return extensao.lower()\n",
    "\n",
    "def ler_arquivo(arquivo):\n",
    "    try:\n",
    "        with open(arquivo, \"r\", encoding=\"utf-8\") as dado:\n",
    "            print(dado.read())\n",
    "    except FileNotFoundError:\n",
    "        print(\"Arquivo não encontrado.\")\n",
    "\n",
    "def escrever_arquivo(arquivo):\n",
    "    texto = input(\"Digite o texto para escrever no arquivo: \")\n",
    "    with open(arquivo, \"w\", encoding=\"utf-8\") as dado:\n",
    "        dado.write(texto)\n",
    "    print(\"Texto salvo com sucesso.\")\n",
    "\n",
    "def adicionar_arquivo(arquivo):\n",
    "    texto = input(\"Digite o texto para adicionar ao arquivo: \")\n",
    "    with open(arquivo, \"a\", encoding=\"utf-8\") as dado:\n",
    "        dado.write(\"\\n\" + texto)\n",
    "    print(\"Texto adicionado com sucesso.\")\n",
    "\n",
    "arquivo = input(\"Digite o nome do arquivo (.txt, .csv, .json): \")\n",
    "extensao = identificar_extensao(arquivo)\n",
    "\n",
    "if extensao in [\".txt\", \".csv\", \".json\"]:\n",
    "    acao = input(\"Deseja ler, escrever ou adicionar ao arquivo? (ler/escrever/adicionar): \").strip().lower()\n",
    "\n",
    "    if acao == \"ler\":\n",
    "        ler_arquivo(arquivo)\n",
    "    elif acao == \"escrever\":\n",
    "        escrever_arquivo(arquivo)\n",
    "    elif acao == \"adicionar\":\n",
    "        adicionar_arquivo(arquivo)\n",
    "    else:\n",
    "        print(\"Ação inválida.\")\n",
    "else:\n",
    "    print(\"Extensão não suportada.\")"
   ]
  }
 ],
 "metadata": {
  "kernelspec": {
   "display_name": "Python 3",
   "language": "python",
   "name": "python3"
  },
  "language_info": {
   "codemirror_mode": {
    "name": "ipython",
    "version": 3
   },
   "file_extension": ".py",
   "mimetype": "text/x-python",
   "name": "python",
   "nbconvert_exporter": "python",
   "pygments_lexer": "ipython3",
   "version": "3.13.0"
  }
 },
 "nbformat": 4,
 "nbformat_minor": 5
}
